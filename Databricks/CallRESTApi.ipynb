{
 "cells": [
  {
   "cell_type": "code",
   "execution_count": 0,
   "metadata": {
    "application/vnd.databricks.v1+cell": {
     "cellMetadata": {
      "byteLimit": 2048000,
      "rowLimit": 10000
     },
     "inputWidgets": {},
     "nuid": "681ffcd9-818a-4063-a193-46e87078850c",
     "showTitle": false,
     "tableResultSettingsMap": {},
     "title": ""
    }
   },
   "outputs": [],
   "source": [
    "from azure.mgmt.resource import SubscriptionClient\n",
    "from azure.identity import *\n",
    "credential = DefaultAzureCredential()\n",
    "subscription_client = SubscriptionClient(credential)\n",
    "subs = list(subscription_client.subscriptions.list())\n",
    "\n",
    "if subs:\n",
    "    subscriptionId = subs[0].subscription_id\n",
    "else:\n",
    "    print(\"No subscriptions found. Does the security principal have the Reader role for at least 1 subscription?\")"
   ]
  },
  {
   "cell_type": "code",
   "execution_count": 0,
   "metadata": {
    "application/vnd.databricks.v1+cell": {
     "cellMetadata": {
      "byteLimit": 2048000,
      "rowLimit": 10000
     },
     "inputWidgets": {},
     "nuid": "dc24bdcf-94ba-4bca-b354-aae4f5a453a0",
     "showTitle": false,
     "tableResultSettingsMap": {},
     "title": ""
    }
   },
   "outputs": [],
   "source": [
    "import requests\n",
    "url = f\"https://management.azure.com/subscriptions/{subscriptionId}/locations?api-version=2022-12-01\"\n",
    "\n",
    "# Set the authorization header\n",
    "headers = {\n",
    "    \"Authorization\": f\"Bearer {credential.get_token('https://management.azure.com/.default').token}\",\n",
    "    \"Content-Type\": \"application/json\"\n",
    "}\n",
    "\n",
    "response = requests.get(url, headers = headers)\n",
    "data = response.json()\n"
   ]
  },
  {
   "cell_type": "code",
   "execution_count": 0,
   "metadata": {
    "application/vnd.databricks.v1+cell": {
     "cellMetadata": {
      "byteLimit": 2048000,
      "rowLimit": 10000
     },
     "inputWidgets": {},
     "nuid": "3df2c8b8-7d50-46b0-a2dc-6993bc7be3ae",
     "showTitle": false,
     "tableResultSettingsMap": {},
     "title": ""
    }
   },
   "outputs": [
    {
     "data": {
      "text/html": [
       "<style scoped>\n",
       "  .table-result-container {\n",
       "    max-height: 300px;\n",
       "    overflow: auto;\n",
       "  }\n",
       "  table, th, td {\n",
       "    border: 1px solid black;\n",
       "    border-collapse: collapse;\n",
       "  }\n",
       "  th, td {\n",
       "    padding: 5px;\n",
       "  }\n",
       "  th {\n",
       "    text-align: left;\n",
       "  }\n",
       "</style><div class='table-result-container'><table class='table-result'><thead style='background-color: white'><tr><th>name</th><th>regionCategory</th><th>dataCenterLocation</th><th>numZones</th><th>longitude</th><th>latitude</th><th>pairedRegion</th></tr></thead><tbody><tr><td>eastus</td><td>Recommended</td><td>Virginia</td><td>3</td><td>-79.8164</td><td>37.3719</td><td>westus</td></tr><tr><td>southcentralus</td><td>Recommended</td><td>Texas</td><td>3</td><td>-98.5</td><td>29.4167</td><td>northcentralus</td></tr><tr><td>westus2</td><td>Recommended</td><td>Washington</td><td>3</td><td>-119.852</td><td>47.233</td><td>westcentralus</td></tr><tr><td>westus3</td><td>Recommended</td><td>Phoenix</td><td>3</td><td>-112.074036</td><td>33.448376</td><td>eastus</td></tr><tr><td>australiaeast</td><td>Recommended</td><td>New South Wales</td><td>3</td><td>151.2094</td><td>-33.86</td><td>australiasoutheast</td></tr><tr><td>southeastasia</td><td>Recommended</td><td>Singapore</td><td>3</td><td>103.833</td><td>1.283</td><td>eastasia</td></tr><tr><td>northeurope</td><td>Recommended</td><td>Ireland</td><td>3</td><td>-6.2597</td><td>53.3478</td><td>westeurope</td></tr><tr><td>swedencentral</td><td>Recommended</td><td>Gävle</td><td>3</td><td>17.14127</td><td>60.67488</td><td>swedensouth</td></tr><tr><td>uksouth</td><td>Recommended</td><td>London</td><td>3</td><td>-0.799</td><td>50.941</td><td>ukwest</td></tr><tr><td>westeurope</td><td>Recommended</td><td>Netherlands</td><td>3</td><td>4.9</td><td>52.3667</td><td>northeurope</td></tr><tr><td>centralus</td><td>Recommended</td><td>Iowa</td><td>3</td><td>-93.6208</td><td>41.5908</td><td>eastus2</td></tr><tr><td>southafricanorth</td><td>Recommended</td><td>Johannesburg</td><td>3</td><td>28.21837</td><td>-25.73134</td><td>southafricawest</td></tr><tr><td>centralindia</td><td>Recommended</td><td>Pune</td><td>3</td><td>73.9197</td><td>18.5822</td><td>southindia</td></tr><tr><td>eastasia</td><td>Recommended</td><td>Hong Kong</td><td>3</td><td>114.188</td><td>22.267</td><td>southeastasia</td></tr><tr><td>indonesiacentral</td><td>Recommended</td><td>Jakarta</td><td>3</td><td>106.816666</td><td>-6.2</td><td>null</td></tr><tr><td>japaneast</td><td>Recommended</td><td>Tokyo, Saitama</td><td>3</td><td>139.77</td><td>35.68</td><td>japanwest</td></tr><tr><td>japanwest</td><td>Recommended</td><td>Osaka</td><td>3</td><td>135.5022</td><td>34.6939</td><td>japaneast</td></tr><tr><td>koreacentral</td><td>Recommended</td><td>Seoul</td><td>3</td><td>126.978</td><td>37.5665</td><td>koreasouth</td></tr><tr><td>newzealandnorth</td><td>Recommended</td><td>Auckland</td><td>3</td><td>174.76349</td><td>-36.84853</td><td>null</td></tr><tr><td>canadacentral</td><td>Recommended</td><td>Toronto</td><td>3</td><td>-79.383</td><td>43.653</td><td>canadaeast</td></tr><tr><td>francecentral</td><td>Recommended</td><td>Paris</td><td>3</td><td>2.373</td><td>46.3772</td><td>francesouth</td></tr><tr><td>germanywestcentral</td><td>Recommended</td><td>Frankfurt</td><td>3</td><td>8.682127</td><td>50.110924</td><td>germanynorth</td></tr><tr><td>italynorth</td><td>Recommended</td><td>Milan</td><td>3</td><td>9.18109</td><td>45.46888</td><td>null</td></tr><tr><td>norwayeast</td><td>Recommended</td><td>Norway</td><td>3</td><td>10.752245</td><td>59.913868</td><td>norwaywest</td></tr><tr><td>polandcentral</td><td>Recommended</td><td>Warsaw</td><td>3</td><td>21.01666</td><td>52.23334</td><td>null</td></tr><tr><td>spaincentral</td><td>Recommended</td><td>Madrid</td><td>3</td><td>3.4209</td><td>40.4259</td><td>null</td></tr><tr><td>switzerlandnorth</td><td>Recommended</td><td>Zurich</td><td>3</td><td>8.564572</td><td>47.451542</td><td>switzerlandwest</td></tr><tr><td>mexicocentral</td><td>Recommended</td><td>Querétaro State</td><td>3</td><td>-100.389888</td><td>20.588818</td><td>null</td></tr><tr><td>uaenorth</td><td>Recommended</td><td>Dubai</td><td>3</td><td>55.316666</td><td>25.266666</td><td>uaecentral</td></tr><tr><td>brazilsouth</td><td>Recommended</td><td>Sao Paulo State</td><td>3</td><td>-46.633</td><td>-23.55</td><td>southcentralus</td></tr><tr><td>israelcentral</td><td>Recommended</td><td>Israel</td><td>3</td><td>33.4506633</td><td>31.2655698</td><td>null</td></tr><tr><td>qatarcentral</td><td>Recommended</td><td>Doha</td><td>3</td><td>51.439327</td><td>25.551462</td><td>null</td></tr><tr><td>brazilus</td><td>Other</td><td></td><td>-1</td><td>0</td><td>0</td><td>brazilsoutheast</td></tr><tr><td>eastus2</td><td>Other</td><td>Virginia</td><td>3</td><td>-78.3889</td><td>36.6681</td><td>centralus</td></tr><tr><td>eastusstg</td><td>Other</td><td>Virginia</td><td>-1</td><td>-79.8164</td><td>37.3719</td><td>southcentralusstg</td></tr><tr><td>northcentralus</td><td>Other</td><td>Illinois</td><td>-1</td><td>-87.6278</td><td>41.8819</td><td>southcentralus</td></tr><tr><td>westus</td><td>Other</td><td>California</td><td>-1</td><td>-122.417</td><td>37.783</td><td>eastus</td></tr><tr><td>jioindiawest</td><td>Other</td><td>Jamnagar</td><td>-1</td><td>70.05773</td><td>22.470701</td><td>jioindiacentral</td></tr><tr><td>centraluseuap</td><td>Other</td><td></td><td>-1</td><td>-93.6208</td><td>41.5908</td><td>eastus2euap</td></tr><tr><td>eastus2euap</td><td>Other</td><td></td><td>3</td><td>-78.3889</td><td>36.6681</td><td>centraluseuap</td></tr><tr><td>southcentralusstg</td><td>Other</td><td>Texas</td><td>-1</td><td>-98.5</td><td>29.4167</td><td>eastusstg</td></tr><tr><td>westcentralus</td><td>Other</td><td>Wyoming</td><td>-1</td><td>-110.234</td><td>40.89</td><td>westus2</td></tr><tr><td>southafricawest</td><td>Other</td><td>Cape Town</td><td>-1</td><td>18.843266</td><td>-34.075691</td><td>southafricanorth</td></tr><tr><td>australiacentral</td><td>Other</td><td>Canberra</td><td>-1</td><td>149.1244</td><td>-35.3075</td><td>australiacentral2</td></tr><tr><td>australiacentral2</td><td>Other</td><td>Canberra</td><td>-1</td><td>149.1244</td><td>-35.3075</td><td>australiacentral</td></tr><tr><td>australiasoutheast</td><td>Other</td><td>Victoria</td><td>-1</td><td>144.9631</td><td>-37.8136</td><td>australiaeast</td></tr><tr><td>jioindiacentral</td><td>Other</td><td>Nagpur</td><td>-1</td><td>79.08886</td><td>21.146633</td><td>jioindiawest</td></tr><tr><td>koreasouth</td><td>Other</td><td>Busan</td><td>-1</td><td>129.0756</td><td>35.1796</td><td>koreacentral</td></tr><tr><td>southindia</td><td>Other</td><td>Chennai</td><td>-1</td><td>80.1636</td><td>12.9822</td><td>centralindia</td></tr><tr><td>westindia</td><td>Other</td><td>Mumbai</td><td>-1</td><td>72.868</td><td>19.088</td><td>southindia</td></tr><tr><td>canadaeast</td><td>Other</td><td>Quebec</td><td>-1</td><td>-71.217</td><td>46.817</td><td>canadacentral</td></tr><tr><td>francesouth</td><td>Other</td><td>Marseille</td><td>-1</td><td>2.1972</td><td>43.8345</td><td>francecentral</td></tr><tr><td>germanynorth</td><td>Other</td><td>Berlin</td><td>-1</td><td>8.806422</td><td>53.073635</td><td>germanywestcentral</td></tr><tr><td>norwaywest</td><td>Other</td><td>Norway</td><td>-1</td><td>5.733107</td><td>58.969975</td><td>norwayeast</td></tr><tr><td>switzerlandwest</td><td>Other</td><td>Geneva</td><td>-1</td><td>6.143158</td><td>46.204391</td><td>switzerlandnorth</td></tr><tr><td>ukwest</td><td>Other</td><td>Cardiff</td><td>-1</td><td>-3.084</td><td>53.427</td><td>uksouth</td></tr><tr><td>uaecentral</td><td>Other</td><td>Abu Dhabi</td><td>-1</td><td>54.366669</td><td>24.466667</td><td>uaenorth</td></tr><tr><td>brazilsoutheast</td><td>Other</td><td>Rio</td><td>-1</td><td>-43.2075</td><td>-22.90278</td><td>brazilsouth</td></tr></tbody></table></div>"
      ]
     },
     "metadata": {
      "application/vnd.databricks.v1+output": {
       "addedWidgets": {},
       "aggData": [],
       "aggError": "",
       "aggOverflow": false,
       "aggSchema": [],
       "aggSeriesLimitReached": false,
       "aggType": "",
       "arguments": {},
       "columnCustomDisplayInfos": {},
       "data": [
        [
         "eastus",
         "Recommended",
         "Virginia",
         3,
         "-79.8164",
         "37.3719",
         "westus"
        ],
        [
         "southcentralus",
         "Recommended",
         "Texas",
         3,
         "-98.5",
         "29.4167",
         "northcentralus"
        ],
        [
         "westus2",
         "Recommended",
         "Washington",
         3,
         "-119.852",
         "47.233",
         "westcentralus"
        ],
        [
         "westus3",
         "Recommended",
         "Phoenix",
         3,
         "-112.074036",
         "33.448376",
         "eastus"
        ],
        [
         "australiaeast",
         "Recommended",
         "New South Wales",
         3,
         "151.2094",
         "-33.86",
         "australiasoutheast"
        ],
        [
         "southeastasia",
         "Recommended",
         "Singapore",
         3,
         "103.833",
         "1.283",
         "eastasia"
        ],
        [
         "northeurope",
         "Recommended",
         "Ireland",
         3,
         "-6.2597",
         "53.3478",
         "westeurope"
        ],
        [
         "swedencentral",
         "Recommended",
         "Gävle",
         3,
         "17.14127",
         "60.67488",
         "swedensouth"
        ],
        [
         "uksouth",
         "Recommended",
         "London",
         3,
         "-0.799",
         "50.941",
         "ukwest"
        ],
        [
         "westeurope",
         "Recommended",
         "Netherlands",
         3,
         "4.9",
         "52.3667",
         "northeurope"
        ],
        [
         "centralus",
         "Recommended",
         "Iowa",
         3,
         "-93.6208",
         "41.5908",
         "eastus2"
        ],
        [
         "southafricanorth",
         "Recommended",
         "Johannesburg",
         3,
         "28.21837",
         "-25.73134",
         "southafricawest"
        ],
        [
         "centralindia",
         "Recommended",
         "Pune",
         3,
         "73.9197",
         "18.5822",
         "southindia"
        ],
        [
         "eastasia",
         "Recommended",
         "Hong Kong",
         3,
         "114.188",
         "22.267",
         "southeastasia"
        ],
        [
         "indonesiacentral",
         "Recommended",
         "Jakarta",
         3,
         "106.816666",
         "-6.2",
         null
        ],
        [
         "japaneast",
         "Recommended",
         "Tokyo, Saitama",
         3,
         "139.77",
         "35.68",
         "japanwest"
        ],
        [
         "japanwest",
         "Recommended",
         "Osaka",
         3,
         "135.5022",
         "34.6939",
         "japaneast"
        ],
        [
         "koreacentral",
         "Recommended",
         "Seoul",
         3,
         "126.978",
         "37.5665",
         "koreasouth"
        ],
        [
         "newzealandnorth",
         "Recommended",
         "Auckland",
         3,
         "174.76349",
         "-36.84853",
         null
        ],
        [
         "canadacentral",
         "Recommended",
         "Toronto",
         3,
         "-79.383",
         "43.653",
         "canadaeast"
        ],
        [
         "francecentral",
         "Recommended",
         "Paris",
         3,
         "2.373",
         "46.3772",
         "francesouth"
        ],
        [
         "germanywestcentral",
         "Recommended",
         "Frankfurt",
         3,
         "8.682127",
         "50.110924",
         "germanynorth"
        ],
        [
         "italynorth",
         "Recommended",
         "Milan",
         3,
         "9.18109",
         "45.46888",
         null
        ],
        [
         "norwayeast",
         "Recommended",
         "Norway",
         3,
         "10.752245",
         "59.913868",
         "norwaywest"
        ],
        [
         "polandcentral",
         "Recommended",
         "Warsaw",
         3,
         "21.01666",
         "52.23334",
         null
        ],
        [
         "spaincentral",
         "Recommended",
         "Madrid",
         3,
         "3.4209",
         "40.4259",
         null
        ],
        [
         "switzerlandnorth",
         "Recommended",
         "Zurich",
         3,
         "8.564572",
         "47.451542",
         "switzerlandwest"
        ],
        [
         "mexicocentral",
         "Recommended",
         "Querétaro State",
         3,
         "-100.389888",
         "20.588818",
         null
        ],
        [
         "uaenorth",
         "Recommended",
         "Dubai",
         3,
         "55.316666",
         "25.266666",
         "uaecentral"
        ],
        [
         "brazilsouth",
         "Recommended",
         "Sao Paulo State",
         3,
         "-46.633",
         "-23.55",
         "southcentralus"
        ],
        [
         "israelcentral",
         "Recommended",
         "Israel",
         3,
         "33.4506633",
         "31.2655698",
         null
        ],
        [
         "qatarcentral",
         "Recommended",
         "Doha",
         3,
         "51.439327",
         "25.551462",
         null
        ],
        [
         "brazilus",
         "Other",
         "",
         -1,
         "0",
         "0",
         "brazilsoutheast"
        ],
        [
         "eastus2",
         "Other",
         "Virginia",
         3,
         "-78.3889",
         "36.6681",
         "centralus"
        ],
        [
         "eastusstg",
         "Other",
         "Virginia",
         -1,
         "-79.8164",
         "37.3719",
         "southcentralusstg"
        ],
        [
         "northcentralus",
         "Other",
         "Illinois",
         -1,
         "-87.6278",
         "41.8819",
         "southcentralus"
        ],
        [
         "westus",
         "Other",
         "California",
         -1,
         "-122.417",
         "37.783",
         "eastus"
        ],
        [
         "jioindiawest",
         "Other",
         "Jamnagar",
         -1,
         "70.05773",
         "22.470701",
         "jioindiacentral"
        ],
        [
         "centraluseuap",
         "Other",
         "",
         -1,
         "-93.6208",
         "41.5908",
         "eastus2euap"
        ],
        [
         "eastus2euap",
         "Other",
         "",
         3,
         "-78.3889",
         "36.6681",
         "centraluseuap"
        ],
        [
         "southcentralusstg",
         "Other",
         "Texas",
         -1,
         "-98.5",
         "29.4167",
         "eastusstg"
        ],
        [
         "westcentralus",
         "Other",
         "Wyoming",
         -1,
         "-110.234",
         "40.89",
         "westus2"
        ],
        [
         "southafricawest",
         "Other",
         "Cape Town",
         -1,
         "18.843266",
         "-34.075691",
         "southafricanorth"
        ],
        [
         "australiacentral",
         "Other",
         "Canberra",
         -1,
         "149.1244",
         "-35.3075",
         "australiacentral2"
        ],
        [
         "australiacentral2",
         "Other",
         "Canberra",
         -1,
         "149.1244",
         "-35.3075",
         "australiacentral"
        ],
        [
         "australiasoutheast",
         "Other",
         "Victoria",
         -1,
         "144.9631",
         "-37.8136",
         "australiaeast"
        ],
        [
         "jioindiacentral",
         "Other",
         "Nagpur",
         -1,
         "79.08886",
         "21.146633",
         "jioindiawest"
        ],
        [
         "koreasouth",
         "Other",
         "Busan",
         -1,
         "129.0756",
         "35.1796",
         "koreacentral"
        ],
        [
         "southindia",
         "Other",
         "Chennai",
         -1,
         "80.1636",
         "12.9822",
         "centralindia"
        ],
        [
         "westindia",
         "Other",
         "Mumbai",
         -1,
         "72.868",
         "19.088",
         "southindia"
        ],
        [
         "canadaeast",
         "Other",
         "Quebec",
         -1,
         "-71.217",
         "46.817",
         "canadacentral"
        ],
        [
         "francesouth",
         "Other",
         "Marseille",
         -1,
         "2.1972",
         "43.8345",
         "francecentral"
        ],
        [
         "germanynorth",
         "Other",
         "Berlin",
         -1,
         "8.806422",
         "53.073635",
         "germanywestcentral"
        ],
        [
         "norwaywest",
         "Other",
         "Norway",
         -1,
         "5.733107",
         "58.969975",
         "norwayeast"
        ],
        [
         "switzerlandwest",
         "Other",
         "Geneva",
         -1,
         "6.143158",
         "46.204391",
         "switzerlandnorth"
        ],
        [
         "ukwest",
         "Other",
         "Cardiff",
         -1,
         "-3.084",
         "53.427",
         "uksouth"
        ],
        [
         "uaecentral",
         "Other",
         "Abu Dhabi",
         -1,
         "54.366669",
         "24.466667",
         "uaenorth"
        ],
        [
         "brazilsoutheast",
         "Other",
         "Rio",
         -1,
         "-43.2075",
         "-22.90278",
         "brazilsouth"
        ]
       ],
       "datasetInfos": [],
       "dbfsResultPath": null,
       "isJsonSchema": true,
       "metadata": {},
       "overflow": false,
       "plotOptions": {
        "customPlotOptions": {},
        "displayType": "table",
        "pivotAggregation": null,
        "pivotColumns": null,
        "xColumns": null,
        "yColumns": null
       },
       "removedWidgets": [],
       "schema": [
        {
         "metadata": "{}",
         "name": "name",
         "type": "\"string\""
        },
        {
         "metadata": "{}",
         "name": "regionCategory",
         "type": "\"string\""
        },
        {
         "metadata": "{}",
         "name": "dataCenterLocation",
         "type": "\"string\""
        },
        {
         "metadata": "{}",
         "name": "numZones",
         "type": "\"integer\""
        },
        {
         "metadata": "{}",
         "name": "longitude",
         "type": "\"string\""
        },
        {
         "metadata": "{}",
         "name": "latitude",
         "type": "\"string\""
        },
        {
         "metadata": "{}",
         "name": "pairedRegion",
         "type": "\"string\""
        }
       ],
       "type": "table"
      }
     },
     "output_type": "display_data"
    }
   ],
   "source": [
    "df = spark.read.json(spark.sparkContext.parallelize([data]))\n",
    "df_flattened = df.selectExpr(\"explode(value) as location\").select(\"location.*\").where(\"metadata.regionType == 'Physical'\").selectExpr(\"name\", \"metadata.regionCategory as regionCategory\", \"metadata.physicalLocation as dataCenterLocation\", \"size(availabilityZoneMappings) as numZones\",\"metadata.longitude as longitude\", \"metadata.latitude as latitude\", \"metadata.pairedRegion.name[0] as pairedRegion\")\n",
    "\n",
    "display(df_flattened)"
   ]
  },
  {
   "cell_type": "code",
   "execution_count": 0,
   "metadata": {
    "application/vnd.databricks.v1+cell": {
     "cellMetadata": {
      "byteLimit": 2048000,
      "rowLimit": 10000
     },
     "inputWidgets": {},
     "nuid": "9103a708-9e58-4e77-af49-841fb26ba906",
     "showTitle": false,
     "tableResultSettingsMap": {},
     "title": ""
    }
   },
   "outputs": [
    {
     "data": {
      "text/html": [
       "<style scoped>\n",
       "  .table-result-container {\n",
       "    max-height: 300px;\n",
       "    overflow: auto;\n",
       "  }\n",
       "  table, th, td {\n",
       "    border: 1px solid black;\n",
       "    border-collapse: collapse;\n",
       "  }\n",
       "  th, td {\n",
       "    padding: 5px;\n",
       "  }\n",
       "  th {\n",
       "    text-align: left;\n",
       "  }\n",
       "</style><div class='table-result-container'><table class='table-result'><thead style='background-color: white'><tr><th>name</th><th>regionCategory</th><th>dataCenterLocation</th><th>numZones</th><th>longitude</th><th>latitude</th><th>pairedRegion</th><th>pairedLongitude</th><th>pairedLatitude</th></tr></thead><tbody><tr><td>eastasia</td><td>Recommended</td><td>Hong Kong</td><td>3</td><td>114.188</td><td>22.267</td><td>southeastasia</td><td>103.833</td><td>1.283</td></tr><tr><td>canadaeast</td><td>Other</td><td>Quebec</td><td>-1</td><td>-71.217</td><td>46.817</td><td>canadacentral</td><td>-79.383</td><td>43.653</td></tr><tr><td>westeurope</td><td>Recommended</td><td>Netherlands</td><td>3</td><td>4.9</td><td>52.3667</td><td>northeurope</td><td>-6.2597</td><td>53.3478</td></tr><tr><td>southafricawest</td><td>Other</td><td>Cape Town</td><td>-1</td><td>18.843266</td><td>-34.075691</td><td>southafricanorth</td><td>28.21837</td><td>-25.73134</td></tr><tr><td>centralindia</td><td>Recommended</td><td>Pune</td><td>3</td><td>73.9197</td><td>18.5822</td><td>southindia</td><td>80.1636</td><td>12.9822</td></tr><tr><td>norwayeast</td><td>Recommended</td><td>Norway</td><td>3</td><td>10.752245</td><td>59.913868</td><td>norwaywest</td><td>5.733107</td><td>58.969975</td></tr><tr><td>westindia</td><td>Other</td><td>Mumbai</td><td>-1</td><td>72.868</td><td>19.088</td><td>southindia</td><td>80.1636</td><td>12.9822</td></tr><tr><td>switzerlandnorth</td><td>Recommended</td><td>Zurich</td><td>3</td><td>8.564572</td><td>47.451542</td><td>switzerlandwest</td><td>6.143158</td><td>46.204391</td></tr><tr><td>uksouth</td><td>Recommended</td><td>London</td><td>3</td><td>-0.799</td><td>50.941</td><td>ukwest</td><td>-3.084</td><td>53.427</td></tr><tr><td>switzerlandwest</td><td>Other</td><td>Geneva</td><td>-1</td><td>6.143158</td><td>46.204391</td><td>switzerlandnorth</td><td>8.564572</td><td>47.451542</td></tr><tr><td>eastus2</td><td>Other</td><td>Virginia</td><td>3</td><td>-78.3889</td><td>36.6681</td><td>centralus</td><td>-93.6208</td><td>41.5908</td></tr><tr><td>indonesiacentral</td><td>Recommended</td><td>Jakarta</td><td>3</td><td>106.816666</td><td>-6.2</td><td>null</td><td>null</td><td>null</td></tr><tr><td>newzealandnorth</td><td>Recommended</td><td>Auckland</td><td>3</td><td>174.76349</td><td>-36.84853</td><td>null</td><td>null</td><td>null</td></tr><tr><td>italynorth</td><td>Recommended</td><td>Milan</td><td>3</td><td>9.18109</td><td>45.46888</td><td>null</td><td>null</td><td>null</td></tr><tr><td>polandcentral</td><td>Recommended</td><td>Warsaw</td><td>3</td><td>21.01666</td><td>52.23334</td><td>null</td><td>null</td><td>null</td></tr><tr><td>spaincentral</td><td>Recommended</td><td>Madrid</td><td>3</td><td>3.4209</td><td>40.4259</td><td>null</td><td>null</td><td>null</td></tr><tr><td>mexicocentral</td><td>Recommended</td><td>Querétaro State</td><td>3</td><td>-100.389888</td><td>20.588818</td><td>null</td><td>null</td><td>null</td></tr><tr><td>israelcentral</td><td>Recommended</td><td>Israel</td><td>3</td><td>33.4506633</td><td>31.2655698</td><td>null</td><td>null</td><td>null</td></tr><tr><td>qatarcentral</td><td>Recommended</td><td>Doha</td><td>3</td><td>51.439327</td><td>25.551462</td><td>null</td><td>null</td><td>null</td></tr><tr><td>australiacentral</td><td>Other</td><td>Canberra</td><td>-1</td><td>149.1244</td><td>-35.3075</td><td>australiacentral2</td><td>149.1244</td><td>-35.3075</td></tr><tr><td>brazilus</td><td>Other</td><td></td><td>-1</td><td>0</td><td>0</td><td>brazilsoutheast</td><td>-43.2075</td><td>-22.90278</td></tr><tr><td>germanywestcentral</td><td>Recommended</td><td>Frankfurt</td><td>3</td><td>8.682127</td><td>50.110924</td><td>germanynorth</td><td>8.806422</td><td>53.073635</td></tr><tr><td>southcentralus</td><td>Recommended</td><td>Texas</td><td>3</td><td>-98.5</td><td>29.4167</td><td>northcentralus</td><td>-87.6278</td><td>41.8819</td></tr><tr><td>koreacentral</td><td>Recommended</td><td>Seoul</td><td>3</td><td>126.978</td><td>37.5665</td><td>koreasouth</td><td>129.0756</td><td>35.1796</td></tr><tr><td>jioindiacentral</td><td>Other</td><td>Nagpur</td><td>-1</td><td>79.08886</td><td>21.146633</td><td>jioindiawest</td><td>70.05773</td><td>22.470701</td></tr><tr><td>brazilsouth</td><td>Recommended</td><td>Sao Paulo State</td><td>3</td><td>-46.633</td><td>-23.55</td><td>southcentralus</td><td>-98.5</td><td>29.4167</td></tr><tr><td>northcentralus</td><td>Other</td><td>Illinois</td><td>-1</td><td>-87.6278</td><td>41.8819</td><td>southcentralus</td><td>-98.5</td><td>29.4167</td></tr><tr><td>francesouth</td><td>Other</td><td>Marseille</td><td>-1</td><td>2.1972</td><td>43.8345</td><td>francecentral</td><td>2.373</td><td>46.3772</td></tr><tr><td>japaneast</td><td>Recommended</td><td>Tokyo, Saitama</td><td>3</td><td>139.77</td><td>35.68</td><td>japanwest</td><td>135.5022</td><td>34.6939</td></tr><tr><td>southindia</td><td>Other</td><td>Chennai</td><td>-1</td><td>80.1636</td><td>12.9822</td><td>centralindia</td><td>73.9197</td><td>18.5822</td></tr><tr><td>eastus2euap</td><td>Other</td><td></td><td>3</td><td>-78.3889</td><td>36.6681</td><td>centraluseuap</td><td>-93.6208</td><td>41.5908</td></tr><tr><td>southcentralusstg</td><td>Other</td><td>Texas</td><td>-1</td><td>-98.5</td><td>29.4167</td><td>eastusstg</td><td>-79.8164</td><td>37.3719</td></tr><tr><td>centralus</td><td>Recommended</td><td>Iowa</td><td>3</td><td>-93.6208</td><td>41.5908</td><td>eastus2</td><td>-78.3889</td><td>36.6681</td></tr><tr><td>brazilsoutheast</td><td>Other</td><td>Rio</td><td>-1</td><td>-43.2075</td><td>-22.90278</td><td>brazilsouth</td><td>-46.633</td><td>-23.55</td></tr><tr><td>southafricanorth</td><td>Recommended</td><td>Johannesburg</td><td>3</td><td>28.21837</td><td>-25.73134</td><td>southafricawest</td><td>18.843266</td><td>-34.075691</td></tr><tr><td>australiacentral2</td><td>Other</td><td>Canberra</td><td>-1</td><td>149.1244</td><td>-35.3075</td><td>australiacentral</td><td>149.1244</td><td>-35.3075</td></tr><tr><td>uaecentral</td><td>Other</td><td>Abu Dhabi</td><td>-1</td><td>54.366669</td><td>24.466667</td><td>uaenorth</td><td>55.316666</td><td>25.266666</td></tr><tr><td>australiaeast</td><td>Recommended</td><td>New South Wales</td><td>3</td><td>151.2094</td><td>-33.86</td><td>australiasoutheast</td><td>144.9631</td><td>-37.8136</td></tr><tr><td>centraluseuap</td><td>Other</td><td></td><td>-1</td><td>-93.6208</td><td>41.5908</td><td>eastus2euap</td><td>-78.3889</td><td>36.6681</td></tr><tr><td>ukwest</td><td>Other</td><td>Cardiff</td><td>-1</td><td>-3.084</td><td>53.427</td><td>uksouth</td><td>-0.799</td><td>50.941</td></tr><tr><td>eastusstg</td><td>Other</td><td>Virginia</td><td>-1</td><td>-79.8164</td><td>37.3719</td><td>southcentralusstg</td><td>-98.5</td><td>29.4167</td></tr><tr><td>eastus</td><td>Recommended</td><td>Virginia</td><td>3</td><td>-79.8164</td><td>37.3719</td><td>westus</td><td>-122.417</td><td>37.783</td></tr><tr><td>japanwest</td><td>Recommended</td><td>Osaka</td><td>3</td><td>135.5022</td><td>34.6939</td><td>japaneast</td><td>139.77</td><td>35.68</td></tr><tr><td>westus3</td><td>Recommended</td><td>Phoenix</td><td>3</td><td>-112.074036</td><td>33.448376</td><td>eastus</td><td>-79.8164</td><td>37.3719</td></tr><tr><td>westus</td><td>Other</td><td>California</td><td>-1</td><td>-122.417</td><td>37.783</td><td>eastus</td><td>-79.8164</td><td>37.3719</td></tr><tr><td>jioindiawest</td><td>Other</td><td>Jamnagar</td><td>-1</td><td>70.05773</td><td>22.470701</td><td>jioindiacentral</td><td>79.08886</td><td>21.146633</td></tr><tr><td>francecentral</td><td>Recommended</td><td>Paris</td><td>3</td><td>2.373</td><td>46.3772</td><td>francesouth</td><td>2.1972</td><td>43.8345</td></tr><tr><td>westcentralus</td><td>Other</td><td>Wyoming</td><td>-1</td><td>-110.234</td><td>40.89</td><td>westus2</td><td>-119.852</td><td>47.233</td></tr><tr><td>northeurope</td><td>Recommended</td><td>Ireland</td><td>3</td><td>-6.2597</td><td>53.3478</td><td>westeurope</td><td>4.9</td><td>52.3667</td></tr><tr><td>swedencentral</td><td>Recommended</td><td>Gävle</td><td>3</td><td>17.14127</td><td>60.67488</td><td>swedensouth</td><td>null</td><td>null</td></tr><tr><td>uaenorth</td><td>Recommended</td><td>Dubai</td><td>3</td><td>55.316666</td><td>25.266666</td><td>uaecentral</td><td>54.366669</td><td>24.466667</td></tr><tr><td>norwaywest</td><td>Other</td><td>Norway</td><td>-1</td><td>5.733107</td><td>58.969975</td><td>norwayeast</td><td>10.752245</td><td>59.913868</td></tr><tr><td>germanynorth</td><td>Other</td><td>Berlin</td><td>-1</td><td>8.806422</td><td>53.073635</td><td>germanywestcentral</td><td>8.682127</td><td>50.110924</td></tr><tr><td>southeastasia</td><td>Recommended</td><td>Singapore</td><td>3</td><td>103.833</td><td>1.283</td><td>eastasia</td><td>114.188</td><td>22.267</td></tr><tr><td>australiasoutheast</td><td>Other</td><td>Victoria</td><td>-1</td><td>144.9631</td><td>-37.8136</td><td>australiaeast</td><td>151.2094</td><td>-33.86</td></tr><tr><td>westus2</td><td>Recommended</td><td>Washington</td><td>3</td><td>-119.852</td><td>47.233</td><td>westcentralus</td><td>-110.234</td><td>40.89</td></tr><tr><td>koreasouth</td><td>Other</td><td>Busan</td><td>-1</td><td>129.0756</td><td>35.1796</td><td>koreacentral</td><td>126.978</td><td>37.5665</td></tr><tr><td>canadacentral</td><td>Recommended</td><td>Toronto</td><td>3</td><td>-79.383</td><td>43.653</td><td>canadaeast</td><td>-71.217</td><td>46.817</td></tr></tbody></table></div>"
      ]
     },
     "metadata": {
      "application/vnd.databricks.v1+output": {
       "addedWidgets": {},
       "aggData": [],
       "aggError": "",
       "aggOverflow": false,
       "aggSchema": [],
       "aggSeriesLimitReached": false,
       "aggType": "",
       "arguments": {},
       "columnCustomDisplayInfos": {},
       "data": [
        [
         "eastasia",
         "Recommended",
         "Hong Kong",
         3,
         "114.188",
         "22.267",
         "southeastasia",
         "103.833",
         "1.283"
        ],
        [
         "canadaeast",
         "Other",
         "Quebec",
         -1,
         "-71.217",
         "46.817",
         "canadacentral",
         "-79.383",
         "43.653"
        ],
        [
         "westeurope",
         "Recommended",
         "Netherlands",
         3,
         "4.9",
         "52.3667",
         "northeurope",
         "-6.2597",
         "53.3478"
        ],
        [
         "southafricawest",
         "Other",
         "Cape Town",
         -1,
         "18.843266",
         "-34.075691",
         "southafricanorth",
         "28.21837",
         "-25.73134"
        ],
        [
         "centralindia",
         "Recommended",
         "Pune",
         3,
         "73.9197",
         "18.5822",
         "southindia",
         "80.1636",
         "12.9822"
        ],
        [
         "norwayeast",
         "Recommended",
         "Norway",
         3,
         "10.752245",
         "59.913868",
         "norwaywest",
         "5.733107",
         "58.969975"
        ],
        [
         "westindia",
         "Other",
         "Mumbai",
         -1,
         "72.868",
         "19.088",
         "southindia",
         "80.1636",
         "12.9822"
        ],
        [
         "switzerlandnorth",
         "Recommended",
         "Zurich",
         3,
         "8.564572",
         "47.451542",
         "switzerlandwest",
         "6.143158",
         "46.204391"
        ],
        [
         "uksouth",
         "Recommended",
         "London",
         3,
         "-0.799",
         "50.941",
         "ukwest",
         "-3.084",
         "53.427"
        ],
        [
         "switzerlandwest",
         "Other",
         "Geneva",
         -1,
         "6.143158",
         "46.204391",
         "switzerlandnorth",
         "8.564572",
         "47.451542"
        ],
        [
         "eastus2",
         "Other",
         "Virginia",
         3,
         "-78.3889",
         "36.6681",
         "centralus",
         "-93.6208",
         "41.5908"
        ],
        [
         "indonesiacentral",
         "Recommended",
         "Jakarta",
         3,
         "106.816666",
         "-6.2",
         null,
         null,
         null
        ],
        [
         "newzealandnorth",
         "Recommended",
         "Auckland",
         3,
         "174.76349",
         "-36.84853",
         null,
         null,
         null
        ],
        [
         "italynorth",
         "Recommended",
         "Milan",
         3,
         "9.18109",
         "45.46888",
         null,
         null,
         null
        ],
        [
         "polandcentral",
         "Recommended",
         "Warsaw",
         3,
         "21.01666",
         "52.23334",
         null,
         null,
         null
        ],
        [
         "spaincentral",
         "Recommended",
         "Madrid",
         3,
         "3.4209",
         "40.4259",
         null,
         null,
         null
        ],
        [
         "mexicocentral",
         "Recommended",
         "Querétaro State",
         3,
         "-100.389888",
         "20.588818",
         null,
         null,
         null
        ],
        [
         "israelcentral",
         "Recommended",
         "Israel",
         3,
         "33.4506633",
         "31.2655698",
         null,
         null,
         null
        ],
        [
         "qatarcentral",
         "Recommended",
         "Doha",
         3,
         "51.439327",
         "25.551462",
         null,
         null,
         null
        ],
        [
         "australiacentral",
         "Other",
         "Canberra",
         -1,
         "149.1244",
         "-35.3075",
         "australiacentral2",
         "149.1244",
         "-35.3075"
        ],
        [
         "brazilus",
         "Other",
         "",
         -1,
         "0",
         "0",
         "brazilsoutheast",
         "-43.2075",
         "-22.90278"
        ],
        [
         "germanywestcentral",
         "Recommended",
         "Frankfurt",
         3,
         "8.682127",
         "50.110924",
         "germanynorth",
         "8.806422",
         "53.073635"
        ],
        [
         "southcentralus",
         "Recommended",
         "Texas",
         3,
         "-98.5",
         "29.4167",
         "northcentralus",
         "-87.6278",
         "41.8819"
        ],
        [
         "koreacentral",
         "Recommended",
         "Seoul",
         3,
         "126.978",
         "37.5665",
         "koreasouth",
         "129.0756",
         "35.1796"
        ],
        [
         "jioindiacentral",
         "Other",
         "Nagpur",
         -1,
         "79.08886",
         "21.146633",
         "jioindiawest",
         "70.05773",
         "22.470701"
        ],
        [
         "brazilsouth",
         "Recommended",
         "Sao Paulo State",
         3,
         "-46.633",
         "-23.55",
         "southcentralus",
         "-98.5",
         "29.4167"
        ],
        [
         "northcentralus",
         "Other",
         "Illinois",
         -1,
         "-87.6278",
         "41.8819",
         "southcentralus",
         "-98.5",
         "29.4167"
        ],
        [
         "francesouth",
         "Other",
         "Marseille",
         -1,
         "2.1972",
         "43.8345",
         "francecentral",
         "2.373",
         "46.3772"
        ],
        [
         "japaneast",
         "Recommended",
         "Tokyo, Saitama",
         3,
         "139.77",
         "35.68",
         "japanwest",
         "135.5022",
         "34.6939"
        ],
        [
         "southindia",
         "Other",
         "Chennai",
         -1,
         "80.1636",
         "12.9822",
         "centralindia",
         "73.9197",
         "18.5822"
        ],
        [
         "eastus2euap",
         "Other",
         "",
         3,
         "-78.3889",
         "36.6681",
         "centraluseuap",
         "-93.6208",
         "41.5908"
        ],
        [
         "southcentralusstg",
         "Other",
         "Texas",
         -1,
         "-98.5",
         "29.4167",
         "eastusstg",
         "-79.8164",
         "37.3719"
        ],
        [
         "centralus",
         "Recommended",
         "Iowa",
         3,
         "-93.6208",
         "41.5908",
         "eastus2",
         "-78.3889",
         "36.6681"
        ],
        [
         "brazilsoutheast",
         "Other",
         "Rio",
         -1,
         "-43.2075",
         "-22.90278",
         "brazilsouth",
         "-46.633",
         "-23.55"
        ],
        [
         "southafricanorth",
         "Recommended",
         "Johannesburg",
         3,
         "28.21837",
         "-25.73134",
         "southafricawest",
         "18.843266",
         "-34.075691"
        ],
        [
         "australiacentral2",
         "Other",
         "Canberra",
         -1,
         "149.1244",
         "-35.3075",
         "australiacentral",
         "149.1244",
         "-35.3075"
        ],
        [
         "uaecentral",
         "Other",
         "Abu Dhabi",
         -1,
         "54.366669",
         "24.466667",
         "uaenorth",
         "55.316666",
         "25.266666"
        ],
        [
         "australiaeast",
         "Recommended",
         "New South Wales",
         3,
         "151.2094",
         "-33.86",
         "australiasoutheast",
         "144.9631",
         "-37.8136"
        ],
        [
         "centraluseuap",
         "Other",
         "",
         -1,
         "-93.6208",
         "41.5908",
         "eastus2euap",
         "-78.3889",
         "36.6681"
        ],
        [
         "ukwest",
         "Other",
         "Cardiff",
         -1,
         "-3.084",
         "53.427",
         "uksouth",
         "-0.799",
         "50.941"
        ],
        [
         "eastusstg",
         "Other",
         "Virginia",
         -1,
         "-79.8164",
         "37.3719",
         "southcentralusstg",
         "-98.5",
         "29.4167"
        ],
        [
         "eastus",
         "Recommended",
         "Virginia",
         3,
         "-79.8164",
         "37.3719",
         "westus",
         "-122.417",
         "37.783"
        ],
        [
         "japanwest",
         "Recommended",
         "Osaka",
         3,
         "135.5022",
         "34.6939",
         "japaneast",
         "139.77",
         "35.68"
        ],
        [
         "westus3",
         "Recommended",
         "Phoenix",
         3,
         "-112.074036",
         "33.448376",
         "eastus",
         "-79.8164",
         "37.3719"
        ],
        [
         "westus",
         "Other",
         "California",
         -1,
         "-122.417",
         "37.783",
         "eastus",
         "-79.8164",
         "37.3719"
        ],
        [
         "jioindiawest",
         "Other",
         "Jamnagar",
         -1,
         "70.05773",
         "22.470701",
         "jioindiacentral",
         "79.08886",
         "21.146633"
        ],
        [
         "francecentral",
         "Recommended",
         "Paris",
         3,
         "2.373",
         "46.3772",
         "francesouth",
         "2.1972",
         "43.8345"
        ],
        [
         "westcentralus",
         "Other",
         "Wyoming",
         -1,
         "-110.234",
         "40.89",
         "westus2",
         "-119.852",
         "47.233"
        ],
        [
         "northeurope",
         "Recommended",
         "Ireland",
         3,
         "-6.2597",
         "53.3478",
         "westeurope",
         "4.9",
         "52.3667"
        ],
        [
         "swedencentral",
         "Recommended",
         "Gävle",
         3,
         "17.14127",
         "60.67488",
         "swedensouth",
         null,
         null
        ],
        [
         "uaenorth",
         "Recommended",
         "Dubai",
         3,
         "55.316666",
         "25.266666",
         "uaecentral",
         "54.366669",
         "24.466667"
        ],
        [
         "norwaywest",
         "Other",
         "Norway",
         -1,
         "5.733107",
         "58.969975",
         "norwayeast",
         "10.752245",
         "59.913868"
        ],
        [
         "germanynorth",
         "Other",
         "Berlin",
         -1,
         "8.806422",
         "53.073635",
         "germanywestcentral",
         "8.682127",
         "50.110924"
        ],
        [
         "southeastasia",
         "Recommended",
         "Singapore",
         3,
         "103.833",
         "1.283",
         "eastasia",
         "114.188",
         "22.267"
        ],
        [
         "australiasoutheast",
         "Other",
         "Victoria",
         -1,
         "144.9631",
         "-37.8136",
         "australiaeast",
         "151.2094",
         "-33.86"
        ],
        [
         "westus2",
         "Recommended",
         "Washington",
         3,
         "-119.852",
         "47.233",
         "westcentralus",
         "-110.234",
         "40.89"
        ],
        [
         "koreasouth",
         "Other",
         "Busan",
         -1,
         "129.0756",
         "35.1796",
         "koreacentral",
         "126.978",
         "37.5665"
        ],
        [
         "canadacentral",
         "Recommended",
         "Toronto",
         3,
         "-79.383",
         "43.653",
         "canadaeast",
         "-71.217",
         "46.817"
        ]
       ],
       "datasetInfos": [],
       "dbfsResultPath": null,
       "isJsonSchema": true,
       "metadata": {},
       "overflow": false,
       "plotOptions": {
        "customPlotOptions": {},
        "displayType": "table",
        "pivotAggregation": null,
        "pivotColumns": null,
        "xColumns": null,
        "yColumns": null
       },
       "removedWidgets": [],
       "schema": [
        {
         "metadata": "{}",
         "name": "name",
         "type": "\"string\""
        },
        {
         "metadata": "{}",
         "name": "regionCategory",
         "type": "\"string\""
        },
        {
         "metadata": "{}",
         "name": "dataCenterLocation",
         "type": "\"string\""
        },
        {
         "metadata": "{}",
         "name": "numZones",
         "type": "\"integer\""
        },
        {
         "metadata": "{}",
         "name": "longitude",
         "type": "\"string\""
        },
        {
         "metadata": "{}",
         "name": "latitude",
         "type": "\"string\""
        },
        {
         "metadata": "{}",
         "name": "pairedRegion",
         "type": "\"string\""
        },
        {
         "metadata": "{}",
         "name": "pairedLongitude",
         "type": "\"string\""
        },
        {
         "metadata": "{}",
         "name": "pairedLatitude",
         "type": "\"string\""
        }
       ],
       "type": "table"
      }
     },
     "output_type": "display_data"
    }
   ],
   "source": [
    "from pyspark.sql.functions import *\n",
    "# Create a lookup DataFrame for paired regions\n",
    "paired_df = df_flattened.selectExpr(\"name as pairedRegionName\", \"longitude as pairedLongitude\", \"latitude as pairedLatitude\"\n",
    ")\n",
    "\n",
    "# Perform a self join to add the pairedLongitude and pairedLatitude columns\n",
    "df_with_paired_location = df_flattened.join(\n",
    "    paired_df,\n",
    "    df_flattened.pairedRegion == paired_df.pairedRegionName,\n",
    "    \"left\"\n",
    ").drop(\"pairedRegionName\")\n",
    "\n",
    "# Display the DataFrame\n",
    "display(df_with_paired_location)"
   ]
  },
  {
   "cell_type": "code",
   "execution_count": 0,
   "metadata": {
    "application/vnd.databricks.v1+cell": {
     "cellMetadata": {
      "byteLimit": 2048000,
      "rowLimit": 10000
     },
     "inputWidgets": {},
     "nuid": "896e832a-f17d-4104-a34c-7d4dfc56d583",
     "showTitle": false,
     "tableResultSettingsMap": {},
     "title": ""
    }
   },
   "outputs": [
    {
     "data": {
      "text/html": [
       "<style scoped>\n",
       "  .table-result-container {\n",
       "    max-height: 300px;\n",
       "    overflow: auto;\n",
       "  }\n",
       "  table, th, td {\n",
       "    border: 1px solid black;\n",
       "    border-collapse: collapse;\n",
       "  }\n",
       "  th, td {\n",
       "    padding: 5px;\n",
       "  }\n",
       "  th {\n",
       "    text-align: left;\n",
       "  }\n",
       "</style><div class='table-result-container'><table class='table-result'><thead style='background-color: white'><tr><th>name</th><th>regionCategory</th><th>dataCenterLocation</th><th>numZones</th><th>longitude</th><th>latitude</th><th>pairedRegion</th><th>pairedLongitude</th><th>pairedLatitude</th><th>distance</th></tr></thead><tbody><tr><td>brazilsouth</td><td>Recommended</td><td>Sao Paulo State</td><td>3</td><td>-46.633</td><td>-23.55</td><td>southcentralus</td><td>-98.5</td><td>29.4167</td><td>8087.47</td></tr><tr><td>eastus</td><td>Recommended</td><td>Virginia</td><td>3</td><td>-79.8164</td><td>37.3719</td><td>westus</td><td>-122.417</td><td>37.783</td><td>3721.23</td></tr><tr><td>westus3</td><td>Recommended</td><td>Phoenix</td><td>3</td><td>-112.074036</td><td>33.448376</td><td>eastus</td><td>-79.8164</td><td>37.3719</td><td>2941.27</td></tr><tr><td>southeastasia</td><td>Recommended</td><td>Singapore</td><td>3</td><td>103.833</td><td>1.283</td><td>eastasia</td><td>114.188</td><td>22.267</td><td>2588.18</td></tr><tr><td>eastasia</td><td>Recommended</td><td>Hong Kong</td><td>3</td><td>114.188</td><td>22.267</td><td>southeastasia</td><td>103.833</td><td>1.283</td><td>2588.18</td></tr><tr><td>southcentralus</td><td>Recommended</td><td>Texas</td><td>3</td><td>-98.5</td><td>29.4167</td><td>northcentralus</td><td>-87.6278</td><td>41.8819</td><td>1695.75</td></tr><tr><td>centralus</td><td>Recommended</td><td>Iowa</td><td>3</td><td>-93.6208</td><td>41.5908</td><td>eastus2</td><td>-78.3889</td><td>36.6681</td><td>1420.77</td></tr><tr><td>southafricanorth</td><td>Recommended</td><td>Johannesburg</td><td>3</td><td>28.21837</td><td>-25.73134</td><td>southafricawest</td><td>18.843266</td><td>-34.075691</td><td>1293.91</td></tr><tr><td>westus2</td><td>Recommended</td><td>Washington</td><td>3</td><td>-119.852</td><td>47.233</td><td>westcentralus</td><td>-110.234</td><td>40.89</td><td>1041.69</td></tr><tr><td>centralindia</td><td>Recommended</td><td>Pune</td><td>3</td><td>73.9197</td><td>18.5822</td><td>southindia</td><td>80.1636</td><td>12.9822</td><td>913.05</td></tr><tr><td>westeurope</td><td>Recommended</td><td>Netherlands</td><td>3</td><td>4.9</td><td>52.3667</td><td>northeurope</td><td>-6.2597</td><td>53.3478</td><td>756.36</td></tr><tr><td>northeurope</td><td>Recommended</td><td>Ireland</td><td>3</td><td>-6.2597</td><td>53.3478</td><td>westeurope</td><td>4.9</td><td>52.3667</td><td>756.36</td></tr><tr><td>canadacentral</td><td>Recommended</td><td>Toronto</td><td>3</td><td>-79.383</td><td>43.653</td><td>canadaeast</td><td>-71.217</td><td>46.817</td><td>729.3</td></tr><tr><td>australiaeast</td><td>Recommended</td><td>New South Wales</td><td>3</td><td>151.2094</td><td>-33.86</td><td>australiasoutheast</td><td>144.9631</td><td>-37.8136</td><td>714.06</td></tr><tr><td>japanwest</td><td>Recommended</td><td>Osaka</td><td>3</td><td>135.5022</td><td>34.6939</td><td>japaneast</td><td>139.77</td><td>35.68</td><td>403.01</td></tr><tr><td>japaneast</td><td>Recommended</td><td>Tokyo, Saitama</td><td>3</td><td>139.77</td><td>35.68</td><td>japanwest</td><td>135.5022</td><td>34.6939</td><td>403.01</td></tr><tr><td>germanywestcentral</td><td>Recommended</td><td>Frankfurt</td><td>3</td><td>8.682127</td><td>50.110924</td><td>germanynorth</td><td>8.806422</td><td>53.073635</td><td>329.55</td></tr><tr><td>koreacentral</td><td>Recommended</td><td>Seoul</td><td>3</td><td>126.978</td><td>37.5665</td><td>koreasouth</td><td>129.0756</td><td>35.1796</td><td>325.11</td></tr><tr><td>uksouth</td><td>Recommended</td><td>London</td><td>3</td><td>-0.799</td><td>50.941</td><td>ukwest</td><td>-3.084</td><td>53.427</td><td>317.27</td></tr><tr><td>norwayeast</td><td>Recommended</td><td>Norway</td><td>3</td><td>10.752245</td><td>59.913868</td><td>norwaywest</td><td>5.733107</td><td>58.969975</td><td>302.44</td></tr><tr><td>francecentral</td><td>Recommended</td><td>Paris</td><td>3</td><td>2.373</td><td>46.3772</td><td>francesouth</td><td>2.1972</td><td>43.8345</td><td>283.07</td></tr><tr><td>switzerlandnorth</td><td>Recommended</td><td>Zurich</td><td>3</td><td>8.564572</td><td>47.451542</td><td>switzerlandwest</td><td>6.143158</td><td>46.204391</td><td>230.56</td></tr><tr><td>uaenorth</td><td>Recommended</td><td>Dubai</td><td>3</td><td>55.316666</td><td>25.266666</td><td>uaecentral</td><td>54.366669</td><td>24.466667</td><td>130.76</td></tr><tr><td>indonesiacentral</td><td>Recommended</td><td>Jakarta</td><td>3</td><td>106.816666</td><td>-6.2</td><td>null</td><td>null</td><td>null</td><td>null</td></tr><tr><td>newzealandnorth</td><td>Recommended</td><td>Auckland</td><td>3</td><td>174.76349</td><td>-36.84853</td><td>null</td><td>null</td><td>null</td><td>null</td></tr><tr><td>italynorth</td><td>Recommended</td><td>Milan</td><td>3</td><td>9.18109</td><td>45.46888</td><td>null</td><td>null</td><td>null</td><td>null</td></tr><tr><td>polandcentral</td><td>Recommended</td><td>Warsaw</td><td>3</td><td>21.01666</td><td>52.23334</td><td>null</td><td>null</td><td>null</td><td>null</td></tr><tr><td>spaincentral</td><td>Recommended</td><td>Madrid</td><td>3</td><td>3.4209</td><td>40.4259</td><td>null</td><td>null</td><td>null</td><td>null</td></tr><tr><td>mexicocentral</td><td>Recommended</td><td>Querétaro State</td><td>3</td><td>-100.389888</td><td>20.588818</td><td>null</td><td>null</td><td>null</td><td>null</td></tr><tr><td>israelcentral</td><td>Recommended</td><td>Israel</td><td>3</td><td>33.4506633</td><td>31.2655698</td><td>null</td><td>null</td><td>null</td><td>null</td></tr><tr><td>qatarcentral</td><td>Recommended</td><td>Doha</td><td>3</td><td>51.439327</td><td>25.551462</td><td>null</td><td>null</td><td>null</td><td>null</td></tr><tr><td>swedencentral</td><td>Recommended</td><td>Gävle</td><td>3</td><td>17.14127</td><td>60.67488</td><td>swedensouth</td><td>null</td><td>null</td><td>null</td></tr><tr><td>brazilus</td><td>Other</td><td></td><td>-1</td><td>0</td><td>0</td><td>brazilsoutheast</td><td>-43.2075</td><td>-22.90278</td><td>5317.71</td></tr><tr><td>westus</td><td>Other</td><td>California</td><td>-1</td><td>-122.417</td><td>37.783</td><td>eastus</td><td>-79.8164</td><td>37.3719</td><td>3721.23</td></tr><tr><td>southcentralusstg</td><td>Other</td><td>Texas</td><td>-1</td><td>-98.5</td><td>29.4167</td><td>eastusstg</td><td>-79.8164</td><td>37.3719</td><td>1942.11</td></tr><tr><td>eastusstg</td><td>Other</td><td>Virginia</td><td>-1</td><td>-79.8164</td><td>37.3719</td><td>southcentralusstg</td><td>-98.5</td><td>29.4167</td><td>1942.11</td></tr><tr><td>northcentralus</td><td>Other</td><td>Illinois</td><td>-1</td><td>-87.6278</td><td>41.8819</td><td>southcentralus</td><td>-98.5</td><td>29.4167</td><td>1695.75</td></tr><tr><td>eastus2</td><td>Other</td><td>Virginia</td><td>3</td><td>-78.3889</td><td>36.6681</td><td>centralus</td><td>-93.6208</td><td>41.5908</td><td>1420.77</td></tr><tr><td>eastus2euap</td><td>Other</td><td></td><td>3</td><td>-78.3889</td><td>36.6681</td><td>centraluseuap</td><td>-93.6208</td><td>41.5908</td><td>1420.77</td></tr><tr><td>centraluseuap</td><td>Other</td><td></td><td>-1</td><td>-93.6208</td><td>41.5908</td><td>eastus2euap</td><td>-78.3889</td><td>36.6681</td><td>1420.77</td></tr><tr><td>southafricawest</td><td>Other</td><td>Cape Town</td><td>-1</td><td>18.843266</td><td>-34.075691</td><td>southafricanorth</td><td>28.21837</td><td>-25.73134</td><td>1293.91</td></tr><tr><td>westcentralus</td><td>Other</td><td>Wyoming</td><td>-1</td><td>-110.234</td><td>40.89</td><td>westus2</td><td>-119.852</td><td>47.233</td><td>1041.69</td></tr><tr><td>westindia</td><td>Other</td><td>Mumbai</td><td>-1</td><td>72.868</td><td>19.088</td><td>southindia</td><td>80.1636</td><td>12.9822</td><td>1033.47</td></tr><tr><td>jioindiawest</td><td>Other</td><td>Jamnagar</td><td>-1</td><td>70.05773</td><td>22.470701</td><td>jioindiacentral</td><td>79.08886</td><td>21.146633</td><td>943.73</td></tr><tr><td>jioindiacentral</td><td>Other</td><td>Nagpur</td><td>-1</td><td>79.08886</td><td>21.146633</td><td>jioindiawest</td><td>70.05773</td><td>22.470701</td><td>943.73</td></tr><tr><td>southindia</td><td>Other</td><td>Chennai</td><td>-1</td><td>80.1636</td><td>12.9822</td><td>centralindia</td><td>73.9197</td><td>18.5822</td><td>913.05</td></tr><tr><td>canadaeast</td><td>Other</td><td>Quebec</td><td>-1</td><td>-71.217</td><td>46.817</td><td>canadacentral</td><td>-79.383</td><td>43.653</td><td>729.3</td></tr><tr><td>australiasoutheast</td><td>Other</td><td>Victoria</td><td>-1</td><td>144.9631</td><td>-37.8136</td><td>australiaeast</td><td>151.2094</td><td>-33.86</td><td>714.06</td></tr><tr><td>brazilsoutheast</td><td>Other</td><td>Rio</td><td>-1</td><td>-43.2075</td><td>-22.90278</td><td>brazilsouth</td><td>-46.633</td><td>-23.55</td><td>357.34</td></tr><tr><td>germanynorth</td><td>Other</td><td>Berlin</td><td>-1</td><td>8.806422</td><td>53.073635</td><td>germanywestcentral</td><td>8.682127</td><td>50.110924</td><td>329.55</td></tr><tr><td>koreasouth</td><td>Other</td><td>Busan</td><td>-1</td><td>129.0756</td><td>35.1796</td><td>koreacentral</td><td>126.978</td><td>37.5665</td><td>325.11</td></tr><tr><td>ukwest</td><td>Other</td><td>Cardiff</td><td>-1</td><td>-3.084</td><td>53.427</td><td>uksouth</td><td>-0.799</td><td>50.941</td><td>317.27</td></tr><tr><td>norwaywest</td><td>Other</td><td>Norway</td><td>-1</td><td>5.733107</td><td>58.969975</td><td>norwayeast</td><td>10.752245</td><td>59.913868</td><td>302.44</td></tr><tr><td>francesouth</td><td>Other</td><td>Marseille</td><td>-1</td><td>2.1972</td><td>43.8345</td><td>francecentral</td><td>2.373</td><td>46.3772</td><td>283.07</td></tr><tr><td>switzerlandwest</td><td>Other</td><td>Geneva</td><td>-1</td><td>6.143158</td><td>46.204391</td><td>switzerlandnorth</td><td>8.564572</td><td>47.451542</td><td>230.56</td></tr><tr><td>uaecentral</td><td>Other</td><td>Abu Dhabi</td><td>-1</td><td>54.366669</td><td>24.466667</td><td>uaenorth</td><td>55.316666</td><td>25.266666</td><td>130.76</td></tr><tr><td>australiacentral2</td><td>Other</td><td>Canberra</td><td>-1</td><td>149.1244</td><td>-35.3075</td><td>australiacentral</td><td>149.1244</td><td>-35.3075</td><td>0.0</td></tr><tr><td>australiacentral</td><td>Other</td><td>Canberra</td><td>-1</td><td>149.1244</td><td>-35.3075</td><td>australiacentral2</td><td>149.1244</td><td>-35.3075</td><td>0.0</td></tr></tbody></table></div>"
      ]
     },
     "metadata": {
      "application/vnd.databricks.v1+output": {
       "addedWidgets": {},
       "aggData": [],
       "aggError": "",
       "aggOverflow": false,
       "aggSchema": [],
       "aggSeriesLimitReached": false,
       "aggType": "",
       "arguments": {},
       "columnCustomDisplayInfos": {},
       "data": [
        [
         "brazilsouth",
         "Recommended",
         "Sao Paulo State",
         3,
         "-46.633",
         "-23.55",
         "southcentralus",
         "-98.5",
         "29.4167",
         8087.47
        ],
        [
         "eastus",
         "Recommended",
         "Virginia",
         3,
         "-79.8164",
         "37.3719",
         "westus",
         "-122.417",
         "37.783",
         3721.23
        ],
        [
         "westus3",
         "Recommended",
         "Phoenix",
         3,
         "-112.074036",
         "33.448376",
         "eastus",
         "-79.8164",
         "37.3719",
         2941.27
        ],
        [
         "southeastasia",
         "Recommended",
         "Singapore",
         3,
         "103.833",
         "1.283",
         "eastasia",
         "114.188",
         "22.267",
         2588.18
        ],
        [
         "eastasia",
         "Recommended",
         "Hong Kong",
         3,
         "114.188",
         "22.267",
         "southeastasia",
         "103.833",
         "1.283",
         2588.18
        ],
        [
         "southcentralus",
         "Recommended",
         "Texas",
         3,
         "-98.5",
         "29.4167",
         "northcentralus",
         "-87.6278",
         "41.8819",
         1695.75
        ],
        [
         "centralus",
         "Recommended",
         "Iowa",
         3,
         "-93.6208",
         "41.5908",
         "eastus2",
         "-78.3889",
         "36.6681",
         1420.77
        ],
        [
         "southafricanorth",
         "Recommended",
         "Johannesburg",
         3,
         "28.21837",
         "-25.73134",
         "southafricawest",
         "18.843266",
         "-34.075691",
         1293.91
        ],
        [
         "westus2",
         "Recommended",
         "Washington",
         3,
         "-119.852",
         "47.233",
         "westcentralus",
         "-110.234",
         "40.89",
         1041.69
        ],
        [
         "centralindia",
         "Recommended",
         "Pune",
         3,
         "73.9197",
         "18.5822",
         "southindia",
         "80.1636",
         "12.9822",
         913.05
        ],
        [
         "westeurope",
         "Recommended",
         "Netherlands",
         3,
         "4.9",
         "52.3667",
         "northeurope",
         "-6.2597",
         "53.3478",
         756.36
        ],
        [
         "northeurope",
         "Recommended",
         "Ireland",
         3,
         "-6.2597",
         "53.3478",
         "westeurope",
         "4.9",
         "52.3667",
         756.36
        ],
        [
         "canadacentral",
         "Recommended",
         "Toronto",
         3,
         "-79.383",
         "43.653",
         "canadaeast",
         "-71.217",
         "46.817",
         729.3
        ],
        [
         "australiaeast",
         "Recommended",
         "New South Wales",
         3,
         "151.2094",
         "-33.86",
         "australiasoutheast",
         "144.9631",
         "-37.8136",
         714.06
        ],
        [
         "japanwest",
         "Recommended",
         "Osaka",
         3,
         "135.5022",
         "34.6939",
         "japaneast",
         "139.77",
         "35.68",
         403.01
        ],
        [
         "japaneast",
         "Recommended",
         "Tokyo, Saitama",
         3,
         "139.77",
         "35.68",
         "japanwest",
         "135.5022",
         "34.6939",
         403.01
        ],
        [
         "germanywestcentral",
         "Recommended",
         "Frankfurt",
         3,
         "8.682127",
         "50.110924",
         "germanynorth",
         "8.806422",
         "53.073635",
         329.55
        ],
        [
         "koreacentral",
         "Recommended",
         "Seoul",
         3,
         "126.978",
         "37.5665",
         "koreasouth",
         "129.0756",
         "35.1796",
         325.11
        ],
        [
         "uksouth",
         "Recommended",
         "London",
         3,
         "-0.799",
         "50.941",
         "ukwest",
         "-3.084",
         "53.427",
         317.27
        ],
        [
         "norwayeast",
         "Recommended",
         "Norway",
         3,
         "10.752245",
         "59.913868",
         "norwaywest",
         "5.733107",
         "58.969975",
         302.44
        ],
        [
         "francecentral",
         "Recommended",
         "Paris",
         3,
         "2.373",
         "46.3772",
         "francesouth",
         "2.1972",
         "43.8345",
         283.07
        ],
        [
         "switzerlandnorth",
         "Recommended",
         "Zurich",
         3,
         "8.564572",
         "47.451542",
         "switzerlandwest",
         "6.143158",
         "46.204391",
         230.56
        ],
        [
         "uaenorth",
         "Recommended",
         "Dubai",
         3,
         "55.316666",
         "25.266666",
         "uaecentral",
         "54.366669",
         "24.466667",
         130.76
        ],
        [
         "indonesiacentral",
         "Recommended",
         "Jakarta",
         3,
         "106.816666",
         "-6.2",
         null,
         null,
         null,
         null
        ],
        [
         "newzealandnorth",
         "Recommended",
         "Auckland",
         3,
         "174.76349",
         "-36.84853",
         null,
         null,
         null,
         null
        ],
        [
         "italynorth",
         "Recommended",
         "Milan",
         3,
         "9.18109",
         "45.46888",
         null,
         null,
         null,
         null
        ],
        [
         "polandcentral",
         "Recommended",
         "Warsaw",
         3,
         "21.01666",
         "52.23334",
         null,
         null,
         null,
         null
        ],
        [
         "spaincentral",
         "Recommended",
         "Madrid",
         3,
         "3.4209",
         "40.4259",
         null,
         null,
         null,
         null
        ],
        [
         "mexicocentral",
         "Recommended",
         "Querétaro State",
         3,
         "-100.389888",
         "20.588818",
         null,
         null,
         null,
         null
        ],
        [
         "israelcentral",
         "Recommended",
         "Israel",
         3,
         "33.4506633",
         "31.2655698",
         null,
         null,
         null,
         null
        ],
        [
         "qatarcentral",
         "Recommended",
         "Doha",
         3,
         "51.439327",
         "25.551462",
         null,
         null,
         null,
         null
        ],
        [
         "swedencentral",
         "Recommended",
         "Gävle",
         3,
         "17.14127",
         "60.67488",
         "swedensouth",
         null,
         null,
         null
        ],
        [
         "brazilus",
         "Other",
         "",
         -1,
         "0",
         "0",
         "brazilsoutheast",
         "-43.2075",
         "-22.90278",
         5317.71
        ],
        [
         "westus",
         "Other",
         "California",
         -1,
         "-122.417",
         "37.783",
         "eastus",
         "-79.8164",
         "37.3719",
         3721.23
        ],
        [
         "southcentralusstg",
         "Other",
         "Texas",
         -1,
         "-98.5",
         "29.4167",
         "eastusstg",
         "-79.8164",
         "37.3719",
         1942.11
        ],
        [
         "eastusstg",
         "Other",
         "Virginia",
         -1,
         "-79.8164",
         "37.3719",
         "southcentralusstg",
         "-98.5",
         "29.4167",
         1942.11
        ],
        [
         "northcentralus",
         "Other",
         "Illinois",
         -1,
         "-87.6278",
         "41.8819",
         "southcentralus",
         "-98.5",
         "29.4167",
         1695.75
        ],
        [
         "eastus2",
         "Other",
         "Virginia",
         3,
         "-78.3889",
         "36.6681",
         "centralus",
         "-93.6208",
         "41.5908",
         1420.77
        ],
        [
         "eastus2euap",
         "Other",
         "",
         3,
         "-78.3889",
         "36.6681",
         "centraluseuap",
         "-93.6208",
         "41.5908",
         1420.77
        ],
        [
         "centraluseuap",
         "Other",
         "",
         -1,
         "-93.6208",
         "41.5908",
         "eastus2euap",
         "-78.3889",
         "36.6681",
         1420.77
        ],
        [
         "southafricawest",
         "Other",
         "Cape Town",
         -1,
         "18.843266",
         "-34.075691",
         "southafricanorth",
         "28.21837",
         "-25.73134",
         1293.91
        ],
        [
         "westcentralus",
         "Other",
         "Wyoming",
         -1,
         "-110.234",
         "40.89",
         "westus2",
         "-119.852",
         "47.233",
         1041.69
        ],
        [
         "westindia",
         "Other",
         "Mumbai",
         -1,
         "72.868",
         "19.088",
         "southindia",
         "80.1636",
         "12.9822",
         1033.47
        ],
        [
         "jioindiawest",
         "Other",
         "Jamnagar",
         -1,
         "70.05773",
         "22.470701",
         "jioindiacentral",
         "79.08886",
         "21.146633",
         943.73
        ],
        [
         "jioindiacentral",
         "Other",
         "Nagpur",
         -1,
         "79.08886",
         "21.146633",
         "jioindiawest",
         "70.05773",
         "22.470701",
         943.73
        ],
        [
         "southindia",
         "Other",
         "Chennai",
         -1,
         "80.1636",
         "12.9822",
         "centralindia",
         "73.9197",
         "18.5822",
         913.05
        ],
        [
         "canadaeast",
         "Other",
         "Quebec",
         -1,
         "-71.217",
         "46.817",
         "canadacentral",
         "-79.383",
         "43.653",
         729.3
        ],
        [
         "australiasoutheast",
         "Other",
         "Victoria",
         -1,
         "144.9631",
         "-37.8136",
         "australiaeast",
         "151.2094",
         "-33.86",
         714.06
        ],
        [
         "brazilsoutheast",
         "Other",
         "Rio",
         -1,
         "-43.2075",
         "-22.90278",
         "brazilsouth",
         "-46.633",
         "-23.55",
         357.34
        ],
        [
         "germanynorth",
         "Other",
         "Berlin",
         -1,
         "8.806422",
         "53.073635",
         "germanywestcentral",
         "8.682127",
         "50.110924",
         329.55
        ],
        [
         "koreasouth",
         "Other",
         "Busan",
         -1,
         "129.0756",
         "35.1796",
         "koreacentral",
         "126.978",
         "37.5665",
         325.11
        ],
        [
         "ukwest",
         "Other",
         "Cardiff",
         -1,
         "-3.084",
         "53.427",
         "uksouth",
         "-0.799",
         "50.941",
         317.27
        ],
        [
         "norwaywest",
         "Other",
         "Norway",
         -1,
         "5.733107",
         "58.969975",
         "norwayeast",
         "10.752245",
         "59.913868",
         302.44
        ],
        [
         "francesouth",
         "Other",
         "Marseille",
         -1,
         "2.1972",
         "43.8345",
         "francecentral",
         "2.373",
         "46.3772",
         283.07
        ],
        [
         "switzerlandwest",
         "Other",
         "Geneva",
         -1,
         "6.143158",
         "46.204391",
         "switzerlandnorth",
         "8.564572",
         "47.451542",
         230.56
        ],
        [
         "uaecentral",
         "Other",
         "Abu Dhabi",
         -1,
         "54.366669",
         "24.466667",
         "uaenorth",
         "55.316666",
         "25.266666",
         130.76
        ],
        [
         "australiacentral2",
         "Other",
         "Canberra",
         -1,
         "149.1244",
         "-35.3075",
         "australiacentral",
         "149.1244",
         "-35.3075",
         0
        ],
        [
         "australiacentral",
         "Other",
         "Canberra",
         -1,
         "149.1244",
         "-35.3075",
         "australiacentral2",
         "149.1244",
         "-35.3075",
         0
        ]
       ],
       "datasetInfos": [],
       "dbfsResultPath": null,
       "isJsonSchema": true,
       "metadata": {},
       "overflow": false,
       "plotOptions": {
        "customPlotOptions": {},
        "displayType": "table",
        "pivotAggregation": null,
        "pivotColumns": null,
        "xColumns": null,
        "yColumns": null
       },
       "removedWidgets": [],
       "schema": [
        {
         "metadata": "{}",
         "name": "name",
         "type": "\"string\""
        },
        {
         "metadata": "{}",
         "name": "regionCategory",
         "type": "\"string\""
        },
        {
         "metadata": "{}",
         "name": "dataCenterLocation",
         "type": "\"string\""
        },
        {
         "metadata": "{}",
         "name": "numZones",
         "type": "\"integer\""
        },
        {
         "metadata": "{}",
         "name": "longitude",
         "type": "\"string\""
        },
        {
         "metadata": "{}",
         "name": "latitude",
         "type": "\"string\""
        },
        {
         "metadata": "{}",
         "name": "pairedRegion",
         "type": "\"string\""
        },
        {
         "metadata": "{}",
         "name": "pairedLongitude",
         "type": "\"string\""
        },
        {
         "metadata": "{}",
         "name": "pairedLatitude",
         "type": "\"string\""
        },
        {
         "metadata": "{}",
         "name": "distance",
         "type": "\"double\""
        }
       ],
       "type": "table"
      }
     },
     "output_type": "display_data"
    }
   ],
   "source": [
    "df_with_distance = df_with_paired_location.withColumn(\"distance\", round(6371 * acos(cos(radians(df_with_paired_location.latitude)) * cos(radians(df_with_paired_location.pairedLatitude)) * cos(radians(df_with_paired_location.longitude) - radians(df_with_paired_location.pairedLongitude)) + sin(radians(df_with_paired_location.latitude)) * sin(radians(df_with_paired_location.pairedLatitude))), 2))\n",
    "\n",
    "display(df_with_distance.orderBy(\"regionCategory\", \"distance\", ascending=False))"
   ]
  }
 ],
 "metadata": {
  "application/vnd.databricks.v1+notebook": {
   "computePreferences": null,
   "dashboards": [],
   "environmentMetadata": {
    "base_environment": "",
    "environment_version": "2"
   },
   "inputWidgetPreferences": null,
   "language": "python",
   "notebookMetadata": {
    "pythonIndentUnit": 4
   },
   "notebookName": "CallRESTApi",
   "widgets": {}
  },
  "language_info": {
   "name": "python"
  }
 },
 "nbformat": 4,
 "nbformat_minor": 0
}
